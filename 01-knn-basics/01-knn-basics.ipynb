{
 "cells": [
  {
   "cell_type": "markdown",
   "id": "8092b099",
   "metadata": {},
   "source": [
    "# Метод k-ближайших соседей\n",
    "\n",
    "Для начала стоит загрузить данные и посмотреть на них. Первым делом нужно установить себе пакеты `matplotlib` и `sklearn`. Это можно сделать выполнив в терминале `python -m pip install --user matplotlib scikit-learn` или запустить ячейку ниже. Восклицательный знак в начале следующей ячейки вызывает системную оболочку и передает команду ей, что в принипе эквивалентно написанию этой команды в терминале.\n",
    "\n",
    "*Подсказка: чтобы не смотреть на простыни установочных логов, можно выделить ячейку, а потом вызвать в меню `Ячейка -> Текущий вывод -> Очистка`.*"
   ]
  },
  {
   "cell_type": "code",
   "execution_count": null,
   "id": "05db3f50",
   "metadata": {},
   "outputs": [],
   "source": [
    "!python -m pip install --user matplotlib scikit-learn"
   ]
  },
  {
   "cell_type": "markdown",
   "id": "0f8ca882",
   "metadata": {},
   "source": [
    "После установки `sklearn` импортируем из него нужные нам функции:"
   ]
  },
  {
   "cell_type": "code",
   "execution_count": null,
   "id": "5ccc6c9e",
   "metadata": {},
   "outputs": [],
   "source": [
    "import matplotlib.pyplot as plt\n",
    "\n",
    "from sklearn import datasets, neighbors, metrics\n",
    "from sklearn.model_selection import train_test_split"
   ]
  },
  {
   "cell_type": "markdown",
   "id": "98e50483",
   "metadata": {},
   "source": [
    "Датасет с рукописными цифрами в sklearn состоит из картинок размером 8x8 пикселей. Атрибут `images` датасета содержит массивы размером 8x8, где каждый такой массив представляет собой картинку в оттенках серого. Воспользуемся этими массивами для визуализации первых четырех картинок. Атрибут `target` содержит метку для каждого изображения. Выведем ее тоже."
   ]
  },
  {
   "cell_type": "code",
   "execution_count": null,
   "id": "50d80942",
   "metadata": {},
   "outputs": [],
   "source": [
    "digits = datasets.load_digits()\n",
    "\n",
    "_, axes = plt.subplots(nrows=1, ncols=4, figsize=(10, 3))\n",
    "for ax, image, label in zip(axes, digits.images, digits.target):\n",
    "    ax.set_axis_off()\n",
    "    ax.imshow(image, cmap=plt.cm.gray_r, interpolation=\"nearest\")\n",
    "    ax.set_title(\"Training: %i\" % label)"
   ]
  },
  {
   "cell_type": "markdown",
   "id": "3c1e1028",
   "metadata": {},
   "source": [
    "# Классификация\n",
    "\n",
    "Для того, чтобы классификатор работал на наших данных, нам необходимо \"расплющить\" (flatten) изображения, преобразовав каждую двумерную картинку в плоский вектор из размера `(8, 8)` в размер `(64,)`. После нам необходимо разбить данные на тренировочную и тестовую выборки, после чего обучить классификатор на тренировочной части, а потом предсказать метки на тестовой."
   ]
  },
  {
   "cell_type": "code",
   "execution_count": null,
   "id": "6050945d",
   "metadata": {},
   "outputs": [],
   "source": [
    "# Вытянем матрицу каждого изображения в вектор\n",
    "n_samples = len(digits.images)\n",
    "data = digits.images.reshape((n_samples, -1))\n",
    "\n",
    "# Создадим объект kNN классификатора\n",
    "clf = neighbors.KNeighborsClassifier()\n",
    "\n",
    "# Разобьем данные на две части.\n",
    "X_train, X_test, y_train, y_test = train_test_split(\n",
    "    data,\n",
    "    digits.target,\n",
    "    test_size=0.5,\n",
    "    shuffle=False,\n",
    ")\n",
    "\n",
    "# Обучим классификатор на тренировочной выборке\n",
    "clf.fit(X_train, y_train)\n",
    "\n",
    "# Предскажем метки для тестовой выборки\n",
    "y_pred = clf.predict(X_test)"
   ]
  },
  {
   "cell_type": "markdown",
   "id": "fd6183dc",
   "metadata": {},
   "source": [
    "Ниже визуализируем первые четыре изображения из тестовой выборки и покажем предсказанные метки для каждого."
   ]
  },
  {
   "cell_type": "code",
   "execution_count": null,
   "id": "66eece00",
   "metadata": {},
   "outputs": [],
   "source": [
    "_, axes = plt.subplots(nrows=1, ncols=4, figsize=(10, 3))\n",
    "for ax, image, prediction in zip(axes, X_test, y_pred):\n",
    "    ax.set_axis_off()\n",
    "    image = image.reshape(8, 8)\n",
    "    ax.imshow(image, cmap=plt.cm.gray_r, interpolation=\"nearest\")\n",
    "    ax.set_title(f\"Prediction: {prediction}\")"
   ]
  },
  {
   "cell_type": "markdown",
   "id": "512fc81d",
   "metadata": {},
   "source": [
    "classification_report builds a text report showing the main classification metrics."
   ]
  },
  {
   "cell_type": "code",
   "execution_count": null,
   "id": "c0d8669d",
   "metadata": {},
   "outputs": [],
   "source": [
    "print(\n",
    "    f\"Classification report {clf}:\\n\"\n",
    "    f\"{metrics.classification_report(y_test, predicted)}\\n\"\n",
    ")"
   ]
  },
  {
   "cell_type": "code",
   "execution_count": null,
   "id": "90da9b45",
   "metadata": {},
   "outputs": [],
   "source": [
    "cm = metrics.confusion_matrix(y_test, y_pred, labels=clf.classes_)\n",
    "disp = metrics.ConfusionMatrixDisplay(confusion_matrix=cm, display_labels=clf.classes_)\n",
    "disp.plot()"
   ]
  },
  {
   "cell_type": "code",
   "execution_count": null,
   "id": "48dae15c",
   "metadata": {},
   "outputs": [],
   "source": []
  }
 ],
 "metadata": {
  "kernelspec": {
   "display_name": "Python 3",
   "language": "python",
   "name": "python3"
  },
  "language_info": {
   "codemirror_mode": {
    "name": "ipython",
    "version": 3
   },
   "file_extension": ".py",
   "mimetype": "text/x-python",
   "name": "python",
   "nbconvert_exporter": "python",
   "pygments_lexer": "ipython3",
   "version": "3.9.7"
  }
 },
 "nbformat": 4,
 "nbformat_minor": 5
}
